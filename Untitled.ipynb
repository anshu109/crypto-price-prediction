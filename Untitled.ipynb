{
 "cells": [
  {
   "cell_type": "code",
   "execution_count": 3,
   "id": "4a4780b9",
   "metadata": {},
   "outputs": [
    {
     "ename": "ModuleNotFoundError",
     "evalue": "No module named 'pandas_datareader'",
     "output_type": "error",
     "traceback": [
      "\u001b[0;31m---------------------------------------------------------------------------\u001b[0m",
      "\u001b[0;31mModuleNotFoundError\u001b[0m                       Traceback (most recent call last)",
      "\u001b[0;32m<ipython-input-3-5c7091cb4efe>\u001b[0m in \u001b[0;36m<module>\u001b[0;34m\u001b[0m\n\u001b[1;32m      1\u001b[0m \u001b[0;32mimport\u001b[0m \u001b[0mpandas\u001b[0m \u001b[0;32mas\u001b[0m \u001b[0mpd\u001b[0m\u001b[0;34m\u001b[0m\u001b[0;34m\u001b[0m\u001b[0m\n\u001b[0;32m----> 2\u001b[0;31m \u001b[0;32mimport\u001b[0m \u001b[0mpandas_datareader\u001b[0m \u001b[0;32mas\u001b[0m \u001b[0mpdr\u001b[0m\u001b[0;34m\u001b[0m\u001b[0;34m\u001b[0m\u001b[0m\n\u001b[0m",
      "\u001b[0;31mModuleNotFoundError\u001b[0m: No module named 'pandas_datareader'"
     ]
    }
   ],
   "source": [
    "import pandas as pd\n",
    "import pandas_datareader as pdr"
   ]
  },
  {
   "cell_type": "code",
   "execution_count": 4,
   "id": "1c971ec5",
   "metadata": {},
   "outputs": [
    {
     "name": "stdout",
     "output_type": "stream",
     "text": [
      "Collecting pandas_datareader\n",
      "  Downloading pandas_datareader-0.10.0-py3-none-any.whl (109 kB)\n",
      "\u001b[K     |████████████████████████████████| 109 kB 4.8 MB/s eta 0:00:01\n",
      "\u001b[?25hRequirement already satisfied: requests>=2.19.0 in /Users/musubimanagement/opt/anaconda3/lib/python3.8/site-packages (from pandas_datareader) (2.26.0)\n",
      "Requirement already satisfied: pandas>=0.23 in /Users/musubimanagement/opt/anaconda3/lib/python3.8/site-packages (from pandas_datareader) (1.2.4)\n",
      "Requirement already satisfied: lxml in /Users/musubimanagement/opt/anaconda3/lib/python3.8/site-packages (from pandas_datareader) (4.6.3)\n",
      "Requirement already satisfied: python-dateutil>=2.7.3 in /Users/musubimanagement/opt/anaconda3/lib/python3.8/site-packages (from pandas>=0.23->pandas_datareader) (2.8.2)\n",
      "Requirement already satisfied: pytz>=2017.3 in /Users/musubimanagement/opt/anaconda3/lib/python3.8/site-packages (from pandas>=0.23->pandas_datareader) (2021.3)\n",
      "Requirement already satisfied: numpy>=1.16.5 in /Users/musubimanagement/opt/anaconda3/lib/python3.8/site-packages (from pandas>=0.23->pandas_datareader) (1.20.1)\n",
      "Requirement already satisfied: six>=1.5 in /Users/musubimanagement/opt/anaconda3/lib/python3.8/site-packages (from python-dateutil>=2.7.3->pandas>=0.23->pandas_datareader) (1.16.0)\n",
      "Requirement already satisfied: charset-normalizer~=2.0.0 in /Users/musubimanagement/opt/anaconda3/lib/python3.8/site-packages (from requests>=2.19.0->pandas_datareader) (2.0.4)\n",
      "Requirement already satisfied: certifi>=2017.4.17 in /Users/musubimanagement/opt/anaconda3/lib/python3.8/site-packages (from requests>=2.19.0->pandas_datareader) (2021.10.8)\n",
      "Requirement already satisfied: idna<4,>=2.5 in /Users/musubimanagement/opt/anaconda3/lib/python3.8/site-packages (from requests>=2.19.0->pandas_datareader) (3.2)\n",
      "Requirement already satisfied: urllib3<1.27,>=1.21.1 in /Users/musubimanagement/opt/anaconda3/lib/python3.8/site-packages (from requests>=2.19.0->pandas_datareader) (1.26.7)\n",
      "Installing collected packages: pandas-datareader\n",
      "Successfully installed pandas-datareader-0.10.0\n",
      "Note: you may need to restart the kernel to use updated packages.\n"
     ]
    }
   ],
   "source": [
    "pip install pandas_datareader"
   ]
  },
  {
   "cell_type": "code",
   "execution_count": 7,
   "id": "57999415",
   "metadata": {},
   "outputs": [
    {
     "name": "stdout",
     "output_type": "stream",
     "text": [
      "{'message': 'You successfully sent a request'}\n"
     ]
    }
   ],
   "source": [
    "import requests\n",
    "\n",
    "headers = {\n",
    "        'Content-Type': 'application/json'\n",
    "        }\n",
    "requestResponse = requests.get(\"https://api.tiingo.com/api/test?token=49670d218e72e7fdb57ad7c4342df7837a773088\",\n",
    "                                    headers=headers)\n",
    "print(requestResponse.json())"
   ]
  },
  {
   "cell_type": "code",
   "execution_count": 12,
   "id": "84a65c9b",
   "metadata": {},
   "outputs": [],
   "source": [
    "key=\"49670d218e72e7fdb57ad7c4342df7837a773088\""
   ]
  },
  {
   "cell_type": "code",
   "execution_count": 13,
   "id": "60bb50c6",
   "metadata": {},
   "outputs": [],
   "source": [
    "import pandas_datareader as pdr"
   ]
  },
  {
   "cell_type": "code",
   "execution_count": 15,
   "id": "a86fa7c1",
   "metadata": {},
   "outputs": [],
   "source": [
    "data=pdr.get_data_tiingo('ATOM',api_key=key)"
   ]
  },
  {
   "cell_type": "code",
   "execution_count": 16,
   "id": "c05c9edb",
   "metadata": {},
   "outputs": [],
   "source": [
    "data.to_csv('ATOM.csv')"
   ]
  },
  {
   "cell_type": "code",
   "execution_count": 92,
   "id": "d65464a4",
   "metadata": {},
   "outputs": [
    {
     "data": {
      "text/html": [
       "<div>\n",
       "<style scoped>\n",
       "    .dataframe tbody tr th:only-of-type {\n",
       "        vertical-align: middle;\n",
       "    }\n",
       "\n",
       "    .dataframe tbody tr th {\n",
       "        vertical-align: top;\n",
       "    }\n",
       "\n",
       "    .dataframe thead th {\n",
       "        text-align: right;\n",
       "    }\n",
       "</style>\n",
       "<table border=\"1\" class=\"dataframe\">\n",
       "  <thead>\n",
       "    <tr style=\"text-align: right;\">\n",
       "      <th></th>\n",
       "      <th>symbol</th>\n",
       "      <th>date</th>\n",
       "      <th>high</th>\n",
       "      <th>low</th>\n",
       "      <th>open</th>\n",
       "      <th>volume</th>\n",
       "      <th>adjClose</th>\n",
       "      <th>adjHigh</th>\n",
       "      <th>adjLow</th>\n",
       "      <th>adjOpen</th>\n",
       "      <th>adjVolume</th>\n",
       "      <th>divCash</th>\n",
       "      <th>splitFactor</th>\n",
       "    </tr>\n",
       "    <tr>\n",
       "      <th>close</th>\n",
       "      <th></th>\n",
       "      <th></th>\n",
       "      <th></th>\n",
       "      <th></th>\n",
       "      <th></th>\n",
       "      <th></th>\n",
       "      <th></th>\n",
       "      <th></th>\n",
       "      <th></th>\n",
       "      <th></th>\n",
       "      <th></th>\n",
       "      <th></th>\n",
       "      <th></th>\n",
       "    </tr>\n",
       "  </thead>\n",
       "  <tbody>\n",
       "    <tr>\n",
       "      <th>7.05</th>\n",
       "      <td>ATOM</td>\n",
       "      <td>2016-11-25 00:00:00+00:00</td>\n",
       "      <td>7.0500</td>\n",
       "      <td>6.6600</td>\n",
       "      <td>6.660</td>\n",
       "      <td>531</td>\n",
       "      <td>7.05</td>\n",
       "      <td>7.0500</td>\n",
       "      <td>6.6600</td>\n",
       "      <td>6.660</td>\n",
       "      <td>531</td>\n",
       "      <td>0.0</td>\n",
       "      <td>1.0</td>\n",
       "    </tr>\n",
       "    <tr>\n",
       "      <th>6.60</th>\n",
       "      <td>ATOM</td>\n",
       "      <td>2016-11-28 00:00:00+00:00</td>\n",
       "      <td>6.6400</td>\n",
       "      <td>6.6000</td>\n",
       "      <td>6.610</td>\n",
       "      <td>1922</td>\n",
       "      <td>6.60</td>\n",
       "      <td>6.6400</td>\n",
       "      <td>6.6000</td>\n",
       "      <td>6.610</td>\n",
       "      <td>1922</td>\n",
       "      <td>0.0</td>\n",
       "      <td>1.0</td>\n",
       "    </tr>\n",
       "    <tr>\n",
       "      <th>6.98</th>\n",
       "      <td>ATOM</td>\n",
       "      <td>2016-11-29 00:00:00+00:00</td>\n",
       "      <td>6.9869</td>\n",
       "      <td>6.6000</td>\n",
       "      <td>6.654</td>\n",
       "      <td>9195</td>\n",
       "      <td>6.98</td>\n",
       "      <td>6.9869</td>\n",
       "      <td>6.6000</td>\n",
       "      <td>6.654</td>\n",
       "      <td>9195</td>\n",
       "      <td>0.0</td>\n",
       "      <td>1.0</td>\n",
       "    </tr>\n",
       "    <tr>\n",
       "      <th>6.75</th>\n",
       "      <td>ATOM</td>\n",
       "      <td>2016-11-30 00:00:00+00:00</td>\n",
       "      <td>6.8507</td>\n",
       "      <td>6.5000</td>\n",
       "      <td>6.620</td>\n",
       "      <td>4500</td>\n",
       "      <td>6.75</td>\n",
       "      <td>6.8507</td>\n",
       "      <td>6.5000</td>\n",
       "      <td>6.620</td>\n",
       "      <td>4500</td>\n",
       "      <td>0.0</td>\n",
       "      <td>1.0</td>\n",
       "    </tr>\n",
       "    <tr>\n",
       "      <th>6.52</th>\n",
       "      <td>ATOM</td>\n",
       "      <td>2016-12-01 00:00:00+00:00</td>\n",
       "      <td>6.8112</td>\n",
       "      <td>6.5200</td>\n",
       "      <td>6.810</td>\n",
       "      <td>3833</td>\n",
       "      <td>6.52</td>\n",
       "      <td>6.8112</td>\n",
       "      <td>6.5200</td>\n",
       "      <td>6.810</td>\n",
       "      <td>3833</td>\n",
       "      <td>0.0</td>\n",
       "      <td>1.0</td>\n",
       "    </tr>\n",
       "    <tr>\n",
       "      <th>...</th>\n",
       "      <td>...</td>\n",
       "      <td>...</td>\n",
       "      <td>...</td>\n",
       "      <td>...</td>\n",
       "      <td>...</td>\n",
       "      <td>...</td>\n",
       "      <td>...</td>\n",
       "      <td>...</td>\n",
       "      <td>...</td>\n",
       "      <td>...</td>\n",
       "      <td>...</td>\n",
       "      <td>...</td>\n",
       "      <td>...</td>\n",
       "    </tr>\n",
       "    <tr>\n",
       "      <th>30.51</th>\n",
       "      <td>ATOM</td>\n",
       "      <td>2021-11-16 00:00:00+00:00</td>\n",
       "      <td>31.1000</td>\n",
       "      <td>29.3800</td>\n",
       "      <td>30.740</td>\n",
       "      <td>492951</td>\n",
       "      <td>30.51</td>\n",
       "      <td>31.1000</td>\n",
       "      <td>29.3800</td>\n",
       "      <td>30.740</td>\n",
       "      <td>492951</td>\n",
       "      <td>0.0</td>\n",
       "      <td>1.0</td>\n",
       "    </tr>\n",
       "    <tr>\n",
       "      <th>28.77</th>\n",
       "      <td>ATOM</td>\n",
       "      <td>2021-11-17 00:00:00+00:00</td>\n",
       "      <td>30.9640</td>\n",
       "      <td>28.6700</td>\n",
       "      <td>30.390</td>\n",
       "      <td>276204</td>\n",
       "      <td>28.77</td>\n",
       "      <td>30.9640</td>\n",
       "      <td>28.6700</td>\n",
       "      <td>30.390</td>\n",
       "      <td>276204</td>\n",
       "      <td>0.0</td>\n",
       "      <td>1.0</td>\n",
       "    </tr>\n",
       "    <tr>\n",
       "      <th>27.87</th>\n",
       "      <td>ATOM</td>\n",
       "      <td>2021-11-18 00:00:00+00:00</td>\n",
       "      <td>29.5000</td>\n",
       "      <td>27.1401</td>\n",
       "      <td>29.040</td>\n",
       "      <td>318967</td>\n",
       "      <td>27.87</td>\n",
       "      <td>29.5000</td>\n",
       "      <td>27.1401</td>\n",
       "      <td>29.040</td>\n",
       "      <td>318967</td>\n",
       "      <td>0.0</td>\n",
       "      <td>1.0</td>\n",
       "    </tr>\n",
       "    <tr>\n",
       "      <th>28.30</th>\n",
       "      <td>ATOM</td>\n",
       "      <td>2021-11-19 00:00:00+00:00</td>\n",
       "      <td>29.0500</td>\n",
       "      <td>27.8495</td>\n",
       "      <td>27.930</td>\n",
       "      <td>233834</td>\n",
       "      <td>28.30</td>\n",
       "      <td>29.0500</td>\n",
       "      <td>27.8495</td>\n",
       "      <td>27.930</td>\n",
       "      <td>233834</td>\n",
       "      <td>0.0</td>\n",
       "      <td>1.0</td>\n",
       "    </tr>\n",
       "    <tr>\n",
       "      <th>25.59</th>\n",
       "      <td>ATOM</td>\n",
       "      <td>2021-11-22 00:00:00+00:00</td>\n",
       "      <td>29.0100</td>\n",
       "      <td>25.5500</td>\n",
       "      <td>28.570</td>\n",
       "      <td>429027</td>\n",
       "      <td>25.59</td>\n",
       "      <td>29.0100</td>\n",
       "      <td>25.5500</td>\n",
       "      <td>28.570</td>\n",
       "      <td>429027</td>\n",
       "      <td>0.0</td>\n",
       "      <td>1.0</td>\n",
       "    </tr>\n",
       "  </tbody>\n",
       "</table>\n",
       "<p>1257 rows × 13 columns</p>\n",
       "</div>"
      ],
      "text/plain": [
       "      symbol                       date     high      low    open  volume  \\\n",
       "close                                                                       \n",
       "7.05    ATOM  2016-11-25 00:00:00+00:00   7.0500   6.6600   6.660     531   \n",
       "6.60    ATOM  2016-11-28 00:00:00+00:00   6.6400   6.6000   6.610    1922   \n",
       "6.98    ATOM  2016-11-29 00:00:00+00:00   6.9869   6.6000   6.654    9195   \n",
       "6.75    ATOM  2016-11-30 00:00:00+00:00   6.8507   6.5000   6.620    4500   \n",
       "6.52    ATOM  2016-12-01 00:00:00+00:00   6.8112   6.5200   6.810    3833   \n",
       "...      ...                        ...      ...      ...     ...     ...   \n",
       "30.51   ATOM  2021-11-16 00:00:00+00:00  31.1000  29.3800  30.740  492951   \n",
       "28.77   ATOM  2021-11-17 00:00:00+00:00  30.9640  28.6700  30.390  276204   \n",
       "27.87   ATOM  2021-11-18 00:00:00+00:00  29.5000  27.1401  29.040  318967   \n",
       "28.30   ATOM  2021-11-19 00:00:00+00:00  29.0500  27.8495  27.930  233834   \n",
       "25.59   ATOM  2021-11-22 00:00:00+00:00  29.0100  25.5500  28.570  429027   \n",
       "\n",
       "       adjClose  adjHigh   adjLow  adjOpen  adjVolume  divCash  splitFactor  \n",
       "close                                                                        \n",
       "7.05       7.05   7.0500   6.6600    6.660        531      0.0          1.0  \n",
       "6.60       6.60   6.6400   6.6000    6.610       1922      0.0          1.0  \n",
       "6.98       6.98   6.9869   6.6000    6.654       9195      0.0          1.0  \n",
       "6.75       6.75   6.8507   6.5000    6.620       4500      0.0          1.0  \n",
       "6.52       6.52   6.8112   6.5200    6.810       3833      0.0          1.0  \n",
       "...         ...      ...      ...      ...        ...      ...          ...  \n",
       "30.51     30.51  31.1000  29.3800   30.740     492951      0.0          1.0  \n",
       "28.77     28.77  30.9640  28.6700   30.390     276204      0.0          1.0  \n",
       "27.87     27.87  29.5000  27.1401   29.040     318967      0.0          1.0  \n",
       "28.30     28.30  29.0500  27.8495   27.930     233834      0.0          1.0  \n",
       "25.59     25.59  29.0100  25.5500   28.570     429027      0.0          1.0  \n",
       "\n",
       "[1257 rows x 13 columns]"
      ]
     },
     "execution_count": 92,
     "metadata": {},
     "output_type": "execute_result"
    }
   ],
   "source": [
    "df=pd.read_csv('ATOM.csv',index_col=\"close\")\n",
    "df"
   ]
  },
  {
   "cell_type": "code",
   "execution_count": 93,
   "id": "8478ab71",
   "metadata": {},
   "outputs": [],
   "source": [
    "import matplotlib.pyplot as plt"
   ]
  },
  {
   "cell_type": "code",
   "execution_count": 97,
   "id": "da6487bb",
   "metadata": {},
   "outputs": [],
   "source": [
    "df1=df.reset_index()['close']"
   ]
  },
  {
   "cell_type": "code",
   "execution_count": 99,
   "id": "18f3644c",
   "metadata": {},
   "outputs": [
    {
     "data": {
      "text/plain": [
       "(1257,)"
      ]
     },
     "execution_count": 99,
     "metadata": {},
     "output_type": "execute_result"
    }
   ],
   "source": [
    "df1.shape"
   ]
  },
  {
   "cell_type": "code",
   "execution_count": 101,
   "id": "67835a5a",
   "metadata": {},
   "outputs": [
    {
     "data": {
      "image/png": "[encoded data removed]",
      "text/plain": [
       "<Figure size 640x480 with 1 Axes>"
      ]
     },
     "metadata": {},
     "output_type": "display_data"
    }
   ],
   "source": [
    "plt.plot(df1)\n",
    "plt.show()"
   ]
  },
  {
   "cell_type": "code",
   "execution_count": 106,
   "id": "40de8050",
   "metadata": {},
   "outputs": [],
   "source": [
    "import numpy as np\n",
    "from sklearn.preprocessing import MinMaxScaler"
   ]
  },
  {
   "cell_type": "code",
   "execution_count": 108,
   "id": "01ab9ccf",
   "metadata": {},
   "outputs": [],
   "source": [
    "from sklearn.preprocessing import MinMaxScaler\n",
    "scaler=MinMaxScaler(feature_range=(0,1))\n",
    "df1=scaler.fit_transform(np.array(df1).reshape(-1,1))"
   ]
  },
  {
   "cell_type": "code",
   "execution_count": 109,
   "id": "41dcc0c1",
   "metadata": {},
   "outputs": [
    {
     "data": {
      "text/plain": [
       "array([[0.10352673],\n",
       "       [0.09328783],\n",
       "       [0.10193402],\n",
       "       ...,\n",
       "       [0.57724687],\n",
       "       [0.58703072],\n",
       "       [0.52536974]])"
      ]
     },
     "execution_count": 109,
     "metadata": {},
     "output_type": "execute_result"
    }
   ],
   "source": [
    "df1"
   ]
  },
  {
   "cell_type": "code",
   "execution_count": 110,
   "id": "6eaab712",
   "metadata": {},
   "outputs": [],
   "source": [
    "##splitting dataset into train and test split\n",
    "training_size=int(len(df1)*0.65)\n",
    "test_size=len(df1)-training_size\n",
    "train_data,test_data=df1[0:training_size,:],df1[training_size:len(df1),:1]"
   ]
  },
  {
   "cell_type": "code",
   "execution_count": 112,
   "id": "00af209a",
   "metadata": {},
   "outputs": [
    {
     "data": {
      "text/plain": [
       "(817, 1)"
      ]
     },
     "execution_count": 112,
     "metadata": {},
     "output_type": "execute_result"
    }
   ],
   "source": [
    "train_data.shape"
   ]
  },
  {
   "cell_type": "code",
   "execution_count": 113,
   "id": "ad638c4c",
   "metadata": {},
   "outputs": [
    {
     "data": {
      "text/plain": [
       "(440, 1)"
      ]
     },
     "execution_count": 113,
     "metadata": {},
     "output_type": "execute_result"
    }
   ],
   "source": [
    "test_data.shape"
   ]
  },
  {
   "cell_type": "code",
   "execution_count": null,
   "id": "b48c8423",
   "metadata": {},
   "outputs": [],
   "source": []
  }
 ],
 "metadata": {
  "kernelspec": {
   "display_name": "Python 3",
   "language": "python",
   "name": "python3"
  },
  "language_info": {
   "codemirror_mode": {
    "name": "ipython",
    "version": 3
   },
   "file_extension": ".py",
   "mimetype": "text/x-python",
   "name": "python",
   "nbconvert_exporter": "python",
   "pygments_lexer": "ipython3",
   "version": "3.8.8"
  }
 },
 "nbformat": 4,
 "nbformat_minor": 5
}
